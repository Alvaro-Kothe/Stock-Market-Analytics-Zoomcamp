{
 "cells": [
  {
   "cell_type": "code",
   "execution_count": 40,
   "id": "4363f1a0-24eb-4db4-b0a4-0e3e687308f3",
   "metadata": {},
   "outputs": [],
   "source": [
    "import pandas_datareader as pdr\n",
    "import datetime\n",
    "import pandas as pd\n",
    "import yfinance as yf"
   ]
  },
  {
   "cell_type": "markdown",
   "id": "c6d7c629-1e28-40f6-a23d-e98b953f9295",
   "metadata": {},
   "source": [
    "## Question 1"
   ]
  },
  {
   "cell_type": "code",
   "execution_count": 21,
   "id": "895d19fb-a811-4d80-8d28-e2f4f8777b06",
   "metadata": {},
   "outputs": [
    {
     "data": {
      "text/html": [
       "<div>\n",
       "<style scoped>\n",
       "    .dataframe tbody tr th:only-of-type {\n",
       "        vertical-align: middle;\n",
       "    }\n",
       "\n",
       "    .dataframe tbody tr th {\n",
       "        vertical-align: top;\n",
       "    }\n",
       "\n",
       "    .dataframe thead th {\n",
       "        text-align: right;\n",
       "    }\n",
       "</style>\n",
       "<table border=\"1\" class=\"dataframe\">\n",
       "  <thead>\n",
       "    <tr style=\"text-align: right;\">\n",
       "      <th></th>\n",
       "      <th>GDPC1</th>\n",
       "    </tr>\n",
       "    <tr>\n",
       "      <th>DATE</th>\n",
       "      <th></th>\n",
       "    </tr>\n",
       "  </thead>\n",
       "  <tbody>\n",
       "    <tr>\n",
       "      <th>2022-01-01</th>\n",
       "      <td>21738.871</td>\n",
       "    </tr>\n",
       "    <tr>\n",
       "      <th>2022-04-01</th>\n",
       "      <td>21708.160</td>\n",
       "    </tr>\n",
       "    <tr>\n",
       "      <th>2022-07-01</th>\n",
       "      <td>21851.134</td>\n",
       "    </tr>\n",
       "    <tr>\n",
       "      <th>2022-10-01</th>\n",
       "      <td>21989.981</td>\n",
       "    </tr>\n",
       "    <tr>\n",
       "      <th>2023-01-01</th>\n",
       "      <td>22112.329</td>\n",
       "    </tr>\n",
       "    <tr>\n",
       "      <th>2023-04-01</th>\n",
       "      <td>22225.350</td>\n",
       "    </tr>\n",
       "    <tr>\n",
       "      <th>2023-07-01</th>\n",
       "      <td>22490.692</td>\n",
       "    </tr>\n",
       "    <tr>\n",
       "      <th>2023-10-01</th>\n",
       "      <td>22679.255</td>\n",
       "    </tr>\n",
       "  </tbody>\n",
       "</table>\n",
       "</div>"
      ],
      "text/plain": [
       "                GDPC1\n",
       "DATE                 \n",
       "2022-01-01  21738.871\n",
       "2022-04-01  21708.160\n",
       "2022-07-01  21851.134\n",
       "2022-10-01  21989.981\n",
       "2023-01-01  22112.329\n",
       "2023-04-01  22225.350\n",
       "2023-07-01  22490.692\n",
       "2023-10-01  22679.255"
      ]
     },
     "execution_count": 21,
     "metadata": {},
     "output_type": "execute_result"
    }
   ],
   "source": [
    "start_date = datetime.date(2023 - 1, 1, 1)\n",
    "gdp_data = pdr.DataReader(\"GDPC1\", \"fred\", start=start_date)\n",
    "gdp_data"
   ]
  },
  {
   "cell_type": "code",
   "execution_count": 25,
   "id": "f442df35-3d8e-4264-93ec-b9b726d1dcbf",
   "metadata": {},
   "outputs": [
    {
     "data": {
      "text/plain": [
       "DATE\n",
       "2023-01-01    0.017179\n",
       "2023-04-01    0.023825\n",
       "2023-07-01    0.029269\n",
       "2023-10-01    0.031345\n",
       "Name: GDPC1_yoy, dtype: float64"
      ]
     },
     "execution_count": 25,
     "metadata": {},
     "output_type": "execute_result"
    }
   ],
   "source": [
    "gdp_data[\"GDPC1_yoy\"] = (gdp_data[\"GDPC1\"] / gdp_data[\"GDPC1\"].shift(4)) - 1.0\n",
    "\n",
    "growth_rate_2023 = gdp_data.loc[gdp_data.index.year == 2023, \"GDPC1_yoy\"]\n",
    "growth_rate_2023"
   ]
  },
  {
   "cell_type": "code",
   "execution_count": 23,
   "id": "71649a7a-1362-4cde-99df-a80d3be48d28",
   "metadata": {},
   "outputs": [
    {
     "data": {
      "text/plain": [
       "2.5404433928676253"
      ]
     },
     "execution_count": 23,
     "metadata": {},
     "output_type": "execute_result"
    }
   ],
   "source": [
    "growth_rate_2023.mean() * 100"
   ]
  },
  {
   "cell_type": "markdown",
   "id": "5d582baa-9a49-4b27-a87f-cfd7fa464162",
   "metadata": {},
   "source": [
    "## Question 2"
   ]
  },
  {
   "cell_type": "code",
   "execution_count": 34,
   "id": "2f0179ea-ca9b-46e6-bf16-14123b32b878",
   "metadata": {},
   "outputs": [
    {
     "data": {
      "text/html": [
       "<div>\n",
       "<style scoped>\n",
       "    .dataframe tbody tr th:only-of-type {\n",
       "        vertical-align: middle;\n",
       "    }\n",
       "\n",
       "    .dataframe tbody tr th {\n",
       "        vertical-align: top;\n",
       "    }\n",
       "\n",
       "    .dataframe thead th {\n",
       "        text-align: right;\n",
       "    }\n",
       "</style>\n",
       "<table border=\"1\" class=\"dataframe\">\n",
       "  <thead>\n",
       "    <tr style=\"text-align: right;\">\n",
       "      <th></th>\n",
       "      <th>DGS2</th>\n",
       "      <th>DGS10</th>\n",
       "    </tr>\n",
       "    <tr>\n",
       "      <th>DATE</th>\n",
       "      <th></th>\n",
       "      <th></th>\n",
       "    </tr>\n",
       "  </thead>\n",
       "  <tbody>\n",
       "    <tr>\n",
       "      <th>2000-01-03</th>\n",
       "      <td>6.38</td>\n",
       "      <td>6.58</td>\n",
       "    </tr>\n",
       "    <tr>\n",
       "      <th>2000-01-04</th>\n",
       "      <td>6.30</td>\n",
       "      <td>6.49</td>\n",
       "    </tr>\n",
       "    <tr>\n",
       "      <th>2000-01-05</th>\n",
       "      <td>6.38</td>\n",
       "      <td>6.62</td>\n",
       "    </tr>\n",
       "    <tr>\n",
       "      <th>2000-01-06</th>\n",
       "      <td>6.35</td>\n",
       "      <td>6.57</td>\n",
       "    </tr>\n",
       "    <tr>\n",
       "      <th>2000-01-07</th>\n",
       "      <td>6.31</td>\n",
       "      <td>6.52</td>\n",
       "    </tr>\n",
       "    <tr>\n",
       "      <th>...</th>\n",
       "      <td>...</td>\n",
       "      <td>...</td>\n",
       "    </tr>\n",
       "    <tr>\n",
       "      <th>2024-04-05</th>\n",
       "      <td>4.73</td>\n",
       "      <td>4.39</td>\n",
       "    </tr>\n",
       "    <tr>\n",
       "      <th>2024-04-08</th>\n",
       "      <td>4.78</td>\n",
       "      <td>4.42</td>\n",
       "    </tr>\n",
       "    <tr>\n",
       "      <th>2024-04-09</th>\n",
       "      <td>4.74</td>\n",
       "      <td>4.36</td>\n",
       "    </tr>\n",
       "    <tr>\n",
       "      <th>2024-04-10</th>\n",
       "      <td>4.97</td>\n",
       "      <td>4.55</td>\n",
       "    </tr>\n",
       "    <tr>\n",
       "      <th>2024-04-11</th>\n",
       "      <td>4.93</td>\n",
       "      <td>4.56</td>\n",
       "    </tr>\n",
       "  </tbody>\n",
       "</table>\n",
       "<p>6334 rows × 2 columns</p>\n",
       "</div>"
      ],
      "text/plain": [
       "            DGS2  DGS10\n",
       "DATE                   \n",
       "2000-01-03  6.38   6.58\n",
       "2000-01-04  6.30   6.49\n",
       "2000-01-05  6.38   6.62\n",
       "2000-01-06  6.35   6.57\n",
       "2000-01-07  6.31   6.52\n",
       "...          ...    ...\n",
       "2024-04-05  4.73   4.39\n",
       "2024-04-08  4.78   4.42\n",
       "2024-04-09  4.74   4.36\n",
       "2024-04-10  4.97   4.55\n",
       "2024-04-11  4.93   4.56\n",
       "\n",
       "[6334 rows x 2 columns]"
      ]
     },
     "execution_count": 34,
     "metadata": {},
     "output_type": "execute_result"
    }
   ],
   "source": [
    "start_date = datetime.date(2000, 1, 1)\n",
    "dgs2 = pdr.DataReader(\"DGS2\", \"fred\", start=start_date)\n",
    "dgs10 = pdr.DataReader(\"DGS10\", \"fred\", start=start_date)\n",
    "dgs_2_10 = dgs2.join(dgs10)\n",
    "dgs_2_10"
   ]
  },
  {
   "cell_type": "code",
   "execution_count": 39,
   "id": "849cbeb8-a86e-4fa7-81a2-7b6da030f500",
   "metadata": {},
   "outputs": [
    {
     "data": {
      "text/plain": [
       "-1.0800000000000005"
      ]
     },
     "execution_count": 39,
     "metadata": {},
     "output_type": "execute_result"
    }
   ],
   "source": [
    "(dgs_2_10[\"DGS10\"] - dgs_2_10[\"DGS2\"]).min()"
   ]
  },
  {
   "cell_type": "code",
   "execution_count": 55,
   "id": "73866523-c1f6-41fb-9f24-bec99bed42a4",
   "metadata": {},
   "outputs": [
    {
     "name": "stderr",
     "output_type": "stream",
     "text": [
      "[*********************100%%**********************]  1 of 1 completed\n",
      "[*********************100%%**********************]  1 of 1 completed\n"
     ]
    },
    {
     "data": {
      "text/html": [
       "<div>\n",
       "<style scoped>\n",
       "    .dataframe tbody tr th:only-of-type {\n",
       "        vertical-align: middle;\n",
       "    }\n",
       "\n",
       "    .dataframe tbody tr th {\n",
       "        vertical-align: top;\n",
       "    }\n",
       "\n",
       "    .dataframe thead th {\n",
       "        text-align: right;\n",
       "    }\n",
       "</style>\n",
       "<table border=\"1\" class=\"dataframe\">\n",
       "  <thead>\n",
       "    <tr style=\"text-align: right;\">\n",
       "      <th></th>\n",
       "      <th>Open</th>\n",
       "      <th>High</th>\n",
       "      <th>Low</th>\n",
       "      <th>Close</th>\n",
       "      <th>Adj Close</th>\n",
       "      <th>Volume</th>\n",
       "    </tr>\n",
       "    <tr>\n",
       "      <th>Date</th>\n",
       "      <th></th>\n",
       "      <th></th>\n",
       "      <th></th>\n",
       "      <th></th>\n",
       "      <th></th>\n",
       "      <th></th>\n",
       "    </tr>\n",
       "  </thead>\n",
       "  <tbody>\n",
       "    <tr>\n",
       "      <th>1927-12-30</th>\n",
       "      <td>17.660000</td>\n",
       "      <td>17.660000</td>\n",
       "      <td>17.660000</td>\n",
       "      <td>17.660000</td>\n",
       "      <td>17.660000</td>\n",
       "      <td>0</td>\n",
       "    </tr>\n",
       "    <tr>\n",
       "      <th>1928-01-03</th>\n",
       "      <td>17.760000</td>\n",
       "      <td>17.760000</td>\n",
       "      <td>17.760000</td>\n",
       "      <td>17.760000</td>\n",
       "      <td>17.760000</td>\n",
       "      <td>0</td>\n",
       "    </tr>\n",
       "    <tr>\n",
       "      <th>1928-01-04</th>\n",
       "      <td>17.719999</td>\n",
       "      <td>17.719999</td>\n",
       "      <td>17.719999</td>\n",
       "      <td>17.719999</td>\n",
       "      <td>17.719999</td>\n",
       "      <td>0</td>\n",
       "    </tr>\n",
       "    <tr>\n",
       "      <th>1928-01-05</th>\n",
       "      <td>17.549999</td>\n",
       "      <td>17.549999</td>\n",
       "      <td>17.549999</td>\n",
       "      <td>17.549999</td>\n",
       "      <td>17.549999</td>\n",
       "      <td>0</td>\n",
       "    </tr>\n",
       "    <tr>\n",
       "      <th>1928-01-06</th>\n",
       "      <td>17.660000</td>\n",
       "      <td>17.660000</td>\n",
       "      <td>17.660000</td>\n",
       "      <td>17.660000</td>\n",
       "      <td>17.660000</td>\n",
       "      <td>0</td>\n",
       "    </tr>\n",
       "    <tr>\n",
       "      <th>...</th>\n",
       "      <td>...</td>\n",
       "      <td>...</td>\n",
       "      <td>...</td>\n",
       "      <td>...</td>\n",
       "      <td>...</td>\n",
       "      <td>...</td>\n",
       "    </tr>\n",
       "    <tr>\n",
       "      <th>2024-04-09</th>\n",
       "      <td>5217.029785</td>\n",
       "      <td>5224.810059</td>\n",
       "      <td>5160.779785</td>\n",
       "      <td>5209.910156</td>\n",
       "      <td>5209.910156</td>\n",
       "      <td>3400680000</td>\n",
       "    </tr>\n",
       "    <tr>\n",
       "      <th>2024-04-10</th>\n",
       "      <td>5167.879883</td>\n",
       "      <td>5178.430176</td>\n",
       "      <td>5138.700195</td>\n",
       "      <td>5160.640137</td>\n",
       "      <td>5160.640137</td>\n",
       "      <td>3845930000</td>\n",
       "    </tr>\n",
       "    <tr>\n",
       "      <th>2024-04-11</th>\n",
       "      <td>5172.950195</td>\n",
       "      <td>5211.779785</td>\n",
       "      <td>5138.770020</td>\n",
       "      <td>5199.060059</td>\n",
       "      <td>5199.060059</td>\n",
       "      <td>3509380000</td>\n",
       "    </tr>\n",
       "    <tr>\n",
       "      <th>2024-04-12</th>\n",
       "      <td>5171.509766</td>\n",
       "      <td>5175.029785</td>\n",
       "      <td>5107.939941</td>\n",
       "      <td>5123.410156</td>\n",
       "      <td>5123.410156</td>\n",
       "      <td>3963220000</td>\n",
       "    </tr>\n",
       "    <tr>\n",
       "      <th>2024-04-15</th>\n",
       "      <td>5149.669922</td>\n",
       "      <td>5168.430176</td>\n",
       "      <td>5098.930176</td>\n",
       "      <td>5099.609863</td>\n",
       "      <td>5099.609863</td>\n",
       "      <td>992689368</td>\n",
       "    </tr>\n",
       "  </tbody>\n",
       "</table>\n",
       "<p>24187 rows × 6 columns</p>\n",
       "</div>"
      ],
      "text/plain": [
       "                   Open         High          Low        Close    Adj Close  \\\n",
       "Date                                                                          \n",
       "1927-12-30    17.660000    17.660000    17.660000    17.660000    17.660000   \n",
       "1928-01-03    17.760000    17.760000    17.760000    17.760000    17.760000   \n",
       "1928-01-04    17.719999    17.719999    17.719999    17.719999    17.719999   \n",
       "1928-01-05    17.549999    17.549999    17.549999    17.549999    17.549999   \n",
       "1928-01-06    17.660000    17.660000    17.660000    17.660000    17.660000   \n",
       "...                 ...          ...          ...          ...          ...   \n",
       "2024-04-09  5217.029785  5224.810059  5160.779785  5209.910156  5209.910156   \n",
       "2024-04-10  5167.879883  5178.430176  5138.700195  5160.640137  5160.640137   \n",
       "2024-04-11  5172.950195  5211.779785  5138.770020  5199.060059  5199.060059   \n",
       "2024-04-12  5171.509766  5175.029785  5107.939941  5123.410156  5123.410156   \n",
       "2024-04-15  5149.669922  5168.430176  5098.930176  5099.609863  5099.609863   \n",
       "\n",
       "                Volume  \n",
       "Date                    \n",
       "1927-12-30           0  \n",
       "1928-01-03           0  \n",
       "1928-01-04           0  \n",
       "1928-01-05           0  \n",
       "1928-01-06           0  \n",
       "...                ...  \n",
       "2024-04-09  3400680000  \n",
       "2024-04-10  3845930000  \n",
       "2024-04-11  3509380000  \n",
       "2024-04-12  3963220000  \n",
       "2024-04-15   992689368  \n",
       "\n",
       "[24187 rows x 6 columns]"
      ]
     },
     "execution_count": 55,
     "metadata": {},
     "output_type": "execute_result"
    }
   ],
   "source": [
    "sp500 = yf.download(tickers = \"^GSPC\", period=\"max\", interval=\"1d\")\n",
    "mxx = yf.download(tickers = \"^MXX\", period=\"max\", interval=\"1d\")\n",
    "sp500"
   ]
  },
  {
   "cell_type": "code",
   "execution_count": 60,
   "id": "e51fb0ed-9709-4b87-875d-3016ae1bbe98",
   "metadata": {},
   "outputs": [
    {
     "data": {
      "text/plain": [
       "81.01279426847174"
      ]
     },
     "execution_count": 60,
     "metadata": {},
     "output_type": "execute_result"
    }
   ],
   "source": [
    "end_date = \"2024-04-09\"\n",
    "start_date = \"2019-04-09\"\n",
    "five_y_growth = lambda ticker: (ticker.loc[end_date, \"Close\"] / ticker.loc[start_date, \"Close\"]) - 1\n",
    "\n",
    "max(five_y_growth(sp500), five_y_growth(mxx)) * 100"
   ]
  },
  {
   "cell_type": "code",
   "execution_count": 62,
   "id": "17bdab7c-f68c-45b4-8865-9fe7dbbb3459",
   "metadata": {},
   "outputs": [
    {
     "name": "stderr",
     "output_type": "stream",
     "text": [
      "[*********************100%%**********************]  1 of 1 completed\n",
      "[*********************100%%**********************]  1 of 1 completed\n",
      "[*********************100%%**********************]  1 of 1 completed\n",
      "[*********************100%%**********************]  1 of 1 completed\n",
      "[*********************100%%**********************]  1 of 1 completed\n",
      "[*********************100%%**********************]  1 of 1 completed\n"
     ]
    },
    {
     "data": {
      "text/plain": [
       "0.4242066515530232"
      ]
     },
     "execution_count": 62,
     "metadata": {},
     "output_type": "execute_result"
    }
   ],
   "source": [
    "# In the exercise gave 6 tickers, JPM shouldn't be there.\n",
    "top5_tickers = [\"2222.SR\",\"BRK-B\", \"AAPL\", \"MSFT\", \"GOOG\", \"JPM\"]\n",
    "range_ratio = [0.0] * 6\n",
    "for i, ticker in enumerate(top5_tickers):\n",
    "    adj_close_history = yf.download(tickers = ticker, period=\"max\", interval=\"1d\", \n",
    "                                    start=\"2023-01-01\", end=\"2024-01-01\")[\"Adj Close\"]\n",
    "    range_ratio[i] = 1.0 - (adj_close_history.min() / adj_close_history.max())\n",
    "\n",
    "max(range_ratio)"
   ]
  },
  {
   "cell_type": "code",
   "execution_count": 68,
   "id": "eb98b0d9-b6f7-488d-8fb3-a9b3a81e0a73",
   "metadata": {},
   "outputs": [
    {
     "name": "stderr",
     "output_type": "stream",
     "text": [
      "[*********************100%%**********************]  1 of 1 completed\n",
      "[*********************100%%**********************]  1 of 1 completed\n",
      "[*********************100%%**********************]  1 of 1 completed\n",
      "[*********************100%%**********************]  1 of 1 completed\n",
      "[*********************100%%**********************]  1 of 1 completed\n",
      "[*********************100%%**********************]  1 of 1 completed\n"
     ]
    },
    {
     "data": {
      "text/plain": [
       "2.770149819503256"
      ]
     },
     "execution_count": 68,
     "metadata": {},
     "output_type": "execute_result"
    }
   ],
   "source": [
    "yields_2023 = [0.0] * 6\n",
    "\n",
    "def dividend_sum(ticker):\n",
    "    ticker_class = yf.Ticker(ticker)\n",
    "    dividend = ticker_class.dividends\n",
    "    return dividend.loc[dividend.index.year == 2023].sum()\n",
    "\n",
    "def last_price(ticker):\n",
    "    stock_data = yf.download(ticker, start=\"2023-01-01\", end=\"2023-12-31\")\n",
    "    return stock_data[\"Adj Close\"].iat[-1]\n",
    "\n",
    "for i, ticker in enumerate(top5_tickers):\n",
    "    yields_2023[i] = dividend_sum(ticker) / last_price(ticker)\n",
    "\n",
    "max(yields_2023) * 100"
   ]
  },
  {
   "cell_type": "code",
   "execution_count": null,
   "id": "6099757c-05c3-40b1-ae96-5324741e265f",
   "metadata": {},
   "outputs": [],
   "source": []
  }
 ],
 "metadata": {
  "kernelspec": {
   "display_name": "Python 3 (ipykernel)",
   "language": "python",
   "name": "python3"
  },
  "language_info": {
   "codemirror_mode": {
    "name": "ipython",
    "version": 3
   },
   "file_extension": ".py",
   "mimetype": "text/x-python",
   "name": "python",
   "nbconvert_exporter": "python",
   "pygments_lexer": "ipython3",
   "version": "3.11.8"
  }
 },
 "nbformat": 4,
 "nbformat_minor": 5
}
